{
 "cells": [
  {
   "cell_type": "code",
   "execution_count": 3,
   "metadata": {},
   "outputs": [],
   "source": [
    "# Import all this\n",
    "import clean_up_data\n",
    "import regression_df\n",
    "import get_data\n",
    "import pandas as pd\n",
    "import sklearn\n",
    "from sklearn.linear_model import LinearRegression\n",
    "from sklearn.linear_model import LogisticRegression\n",
    "from sklearn.metrics import classification_report\n",
    "import numpy as np\n",
    "import seaborn as sns\n",
    "import copy\n",
    "from itertools import chain, combinations"
   ]
  },
  {
   "cell_type": "markdown",
   "metadata": {},
   "source": [
    "# DO NOT run below code. Scroll down to the read_csv statements instead"
   ]
  },
  {
   "cell_type": "code",
   "execution_count": 3,
   "metadata": {},
   "outputs": [],
   "source": [
    "# set an n value for number of games to average over\n",
    "n = 10"
   ]
  },
  {
   "cell_type": "code",
   "execution_count": 108,
   "metadata": {},
   "outputs": [
    {
     "name": "stdout",
     "output_type": "stream",
     "text": [
      "[INFO] Lost 503 values.\n",
      "[INFO] Lost 64 values.\n",
      "[INFO] Lost 108 values.\n"
     ]
    }
   ],
   "source": [
    "# get the data real quick (train on 2016,2017, test on 2018)\n",
    "games15 = get_data.get_data_for_year(2015)\n",
    "games16 = get_data.get_data_for_year(2016)\n",
    "\n",
    "games17 = get_data.get_data_for_year(2017)\n",
    "\n",
    "dic15 = clean_up_data.main(games15)\n",
    "dic16 = clean_up_data.main(games16)\n",
    "\n",
    "dic17 = clean_up_data.main(games17)\n",
    "\n",
    "regr15 = regression_df.main(dic15)\n",
    "regr16 = regression_df.main(dic16)\n",
    "\n",
    "regr17 = regression_df.main(dic17)\n"
   ]
  },
  {
   "cell_type": "code",
   "execution_count": 109,
   "metadata": {},
   "outputs": [],
   "source": [
    "# quick function to turn our regression data ready for actual regression\n",
    "\n",
    "def prepare(regr):\n",
    "    home = regr[regr['home']]\n",
    "    away = regr[regr['home'] == False]\n",
    "    # drop columns that don't need repeating\n",
    "    away.drop(['home','t1_score', 't2_score', 'game_spread',\n",
    "       'game_OU', 't1_ML', 't2_ML'], axis = 1, inplace = True)\n",
    "    home.drop(['home'], axis = 1, inplace = True)\n",
    "    return home.merge(away, on = 'game_id', suffixes=('_home', '_away'))    "
   ]
  },
  {
   "cell_type": "code",
   "execution_count": 110,
   "metadata": {},
   "outputs": [],
   "source": [
    "data15 = prepare(regr15)\n",
    "data16 = prepare(regr16)\n",
    "\n",
    "data17 = prepare(regr17)\n",
    "\n",
    "train = pd.concat((data15, data16))\n",
    "test = data17"
   ]
  },
  {
   "cell_type": "markdown",
   "metadata": {},
   "source": [
    "## Run code starting here"
   ]
  },
  {
   "cell_type": "code",
   "execution_count": 11,
   "metadata": {},
   "outputs": [],
   "source": [
    "train = pd.read_csv('train.csv')\n",
    "test = pd.read_csv('test.csv')"
   ]
  },
  {
   "cell_type": "markdown",
   "metadata": {},
   "source": [
    "Breakdown of prepared regression data: Our columns are\n",
    "\n",
    "\n",
    "       'game_id', 'pts_home', 'a_pts_home', 'poss_home', 'a_poss_home',\n",
    "       'ort_home', 'drt_home', 'OU_home', 'efg_home', 'a_efg_home',\n",
    "       'ast_pct_home', 'win_home', \n",
    "       \n",
    "       't1_score', 't2_score', 'game_spread',\n",
    "       'game_OU', 't1_ML', 't2_ML',\n",
    "       \n",
    "       'pts_away', 'a_pts_away', 'poss_away',\n",
    "       'a_poss_away', 'ort_away', 'drt_away', 'OU_away', 'efg_away',\n",
    "       'a_efg_away', 'ast_pct_away', 'win_away'\n",
    "       \n",
    "The first and third parts are the home & away statistics, averaged (or calculated) over n games.The prefix a_ means the statistics is calculated for the team's opponents. \n",
    "\n",
    "The middle part contains the details of the game results as well as gambling info for the games."
   ]
  },
  {
   "cell_type": "markdown",
   "metadata": {},
   "source": [
    "# First we create algorithms for spread prediction"
   ]
  },
  {
   "cell_type": "markdown",
   "metadata": {},
   "source": [
    "# Algorithm 1\n",
    "\n",
    "We perform a linear regression on the cover, using game stats which we deem important"
   ]
  },
  {
   "cell_type": "code",
   "execution_count": 15,
   "metadata": {},
   "outputs": [],
   "source": [
    "# Get relevent columns and split up our data\n",
    "x_cols = ['pts', 'a_pts', 'poss', 'a_poss',\n",
    "   'ort', 'drt', 'efg', 'a_efg',\n",
    "   'ast_pct']\n",
    "x_cols = [x + '_home' for x in x_cols] + [x + '_away' for x in x_cols]\n",
    "x_train = train[x_cols]\n",
    "x_test = test[x_cols]\n",
    "y_train = train['t1_score'] - train['t2_score'] - train['game_spread']\n",
    "y_test = test['t1_score'] - test['t2_score'] - test['game_spread']"
   ]
  },
  {
   "cell_type": "code",
   "execution_count": 16,
   "metadata": {},
   "outputs": [
    {
     "data": {
      "text/plain": [
       "LinearRegression(copy_X=True, fit_intercept=True, n_jobs=None, normalize=False)"
      ]
     },
     "execution_count": 16,
     "metadata": {},
     "output_type": "execute_result"
    }
   ],
   "source": [
    "# Build and train our model \n",
    "algo_1 = LinearRegression()\n",
    "algo_1.fit(x_train, y_train)"
   ]
  },
  {
   "cell_type": "code",
   "execution_count": 18,
   "metadata": {},
   "outputs": [
    {
     "data": {
      "text/plain": [
       "<seaborn.axisgrid.JointGrid at 0x1275b19d0>"
      ]
     },
     "execution_count": 18,
     "metadata": {},
     "output_type": "execute_result"
    },
    {
     "data": {
      "image/png": "[encoded data removed]",
      "text/plain": [
       "<Figure size 432x432 with 3 Axes>"
      ]
     },
     "metadata": {
      "needs_background": "light"
     },
     "output_type": "display_data"
    }
   ],
   "source": [
    "# Predict our data\n",
    "algo_1_pred = algo_1.predict(x_test)\n",
    "\n",
    "# Plot expected vs actual\n",
    "sns.jointplot(x = y_test, y = algo_1_pred)"
   ]
  },
  {
   "cell_type": "code",
   "execution_count": 20,
   "metadata": {},
   "outputs": [
    {
     "name": "stdout",
     "output_type": "stream",
     "text": [
      "              precision    recall  f1-score   support\n",
      "\n",
      "       False       0.54      0.45      0.49       519\n",
      "        True       0.47      0.55      0.51       447\n",
      "\n",
      "    accuracy                           0.50       966\n",
      "   macro avg       0.50      0.50      0.50       966\n",
      "weighted avg       0.51      0.50      0.50       966\n",
      "\n"
     ]
    }
   ],
   "source": [
    "# Print our classification report\n",
    "print(classification_report(y_test > 0, algo_1_pred > 0))"
   ]
  },
  {
   "cell_type": "markdown",
   "metadata": {},
   "source": [
    "Awesome, didn't work at all!\n",
    "\n",
    "# Algorithm 2\n",
    "Now we predict the points total for both teams, and see if that covers the spread!"
   ]
  },
  {
   "cell_type": "code",
   "execution_count": 21,
   "metadata": {},
   "outputs": [],
   "source": [
    "# Get relevent columns and split up our data\n",
    "x_cols = ['pts', 'a_pts', 'poss', 'a_poss',\n",
    "   'ort', 'drt', 'efg', 'a_efg',\n",
    "   'ast_pct']\n",
    "x_cols = [x + '_home' for x in x_cols] + [x + '_away' for x in x_cols]\n",
    "x_train = train[x_cols]\n",
    "x_test = test[x_cols]\n",
    "y_train = train['t1_score'] - train['t2_score']\n",
    "y_test = test['t1_score'] - test['t2_score']"
   ]
  },
  {
   "cell_type": "code",
   "execution_count": 22,
   "metadata": {},
   "outputs": [
    {
     "data": {
      "text/plain": [
       "LinearRegression(copy_X=True, fit_intercept=True, n_jobs=None, normalize=False)"
      ]
     },
     "execution_count": 22,
     "metadata": {},
     "output_type": "execute_result"
    }
   ],
   "source": [
    "# Build and train our model \n",
    "algo_2 = LinearRegression()\n",
    "algo_2.fit(x_train, y_train)"
   ]
  },
  {
   "cell_type": "code",
   "execution_count": 23,
   "metadata": {},
   "outputs": [
    {
     "data": {
      "text/plain": [
       "<seaborn.axisgrid.JointGrid at 0x10bdc6750>"
      ]
     },
     "execution_count": 23,
     "metadata": {},
     "output_type": "execute_result"
    },
    {
     "data": {
      "image/png": "[encoded data removed]",
      "text/plain": [
       "<Figure size 432x432 with 3 Axes>"
      ]
     },
     "metadata": {
      "needs_background": "light"
     },
     "output_type": "display_data"
    }
   ],
   "source": [
    "# Predict our data\n",
    "algo_2_pred = algo_2.predict(x_test)\n",
    "\n",
    "# Plot expected vs actual\n",
    "sns.jointplot(x = y_test, y = algo_2_pred)"
   ]
  },
  {
   "cell_type": "code",
   "execution_count": 25,
   "metadata": {
    "scrolled": false
   },
   "outputs": [
    {
     "name": "stdout",
     "output_type": "stream",
     "text": [
      "              precision    recall  f1-score   support\n",
      "\n",
      "       False       0.56      0.53      0.54       519\n",
      "        True       0.49      0.52      0.50       447\n",
      "\n",
      "    accuracy                           0.52       966\n",
      "   macro avg       0.52      0.52      0.52       966\n",
      "weighted avg       0.53      0.52      0.53       966\n",
      "\n"
     ]
    }
   ],
   "source": [
    "# Print our classification report\n",
    "print(classification_report(y_test > test['game_spread'], algo_2_pred > test['game_spread']))"
   ]
  },
  {
   "cell_type": "markdown",
   "metadata": {},
   "source": [
    "52%, unreal!"
   ]
  },
  {
   "cell_type": "markdown",
   "metadata": {},
   "source": [
    "# Algorithm 3\n",
    "\n",
    "This time, we use the data to predict what the spread is, and if our predicted spread is higher than the actual spread, we bet on the home team (lower: bet on away)."
   ]
  },
  {
   "cell_type": "code",
   "execution_count": 177,
   "metadata": {},
   "outputs": [],
   "source": [
    "# Get relevent columns and split up our data\n",
    "x_cols = ['pts', 'a_pts', 'poss', 'a_poss',\n",
    "   'ort', 'drt', 'efg', 'a_efg',\n",
    "   'ast_pct']\n",
    "x_cols = [x + '_home' for x in x_cols] + [x + '_away' for x in x_cols]\n",
    "x_train = train[x_cols]\n",
    "x_test = test[x_cols]\n",
    "y_train = train['game_spread']\n",
    "y_test = test['game_spread']"
   ]
  },
  {
   "cell_type": "code",
   "execution_count": 29,
   "metadata": {},
   "outputs": [
    {
     "data": {
      "text/plain": [
       "LinearRegression(copy_X=True, fit_intercept=True, n_jobs=None, normalize=False)"
      ]
     },
     "execution_count": 29,
     "metadata": {},
     "output_type": "execute_result"
    }
   ],
   "source": [
    "# Build and train our model \n",
    "algo_3 = LinearRegression()\n",
    "algo_3.fit(x_train, y_train)"
   ]
  },
  {
   "cell_type": "code",
   "execution_count": 30,
   "metadata": {},
   "outputs": [
    {
     "data": {
      "text/plain": [
       "<matplotlib.axes._subplots.AxesSubplot at 0x128b87710>"
      ]
     },
     "execution_count": 30,
     "metadata": {},
     "output_type": "execute_result"
    },
    {
     "data": {
      "image/png": "[encoded data removed]",
      "text/plain": [
       "<Figure size 432x288 with 1 Axes>"
      ]
     },
     "metadata": {
      "needs_background": "light"
     },
     "output_type": "display_data"
    }
   ],
   "source": [
    "# Predict our data\n",
    "algo_3_pred = algo_3.predict(x_test)\n",
    "\n",
    "# Plot expected vs actual\n",
    "sns.scatterplot(x = y_test, y = algo_3_pred)"
   ]
  },
  {
   "cell_type": "code",
   "execution_count": 31,
   "metadata": {
    "scrolled": true
   },
   "outputs": [
    {
     "data": {
      "text/plain": [
       "<matplotlib.axes._subplots.AxesSubplot at 0x128c7de90>"
      ]
     },
     "execution_count": 31,
     "metadata": {},
     "output_type": "execute_result"
    },
    {
     "data": {
      "image/png": "[encoded data removed]",
      "text/plain": [
       "<Figure size 432x288 with 1 Axes>"
      ]
     },
     "metadata": {
      "needs_background": "light"
     },
     "output_type": "display_data"
    }
   ],
   "source": [
    "# Plot the distribution between expected - predicted\n",
    "sns.distplot(y_test - algo_3_pred, bins = 30, kde = False, norm_hist = False, hist_kws = {'edgecolor' : 'black'})"
   ]
  },
  {
   "cell_type": "code",
   "execution_count": 36,
   "metadata": {},
   "outputs": [
    {
     "ename": "NameError",
     "evalue": "name 'pred' is not defined",
     "output_type": "error",
     "traceback": [
      "\u001b[0;31m---------------------------------------------------------------------------\u001b[0m",
      "\u001b[0;31mNameError\u001b[0m                                 Traceback (most recent call last)",
      "\u001b[0;32m<ipython-input-36-be21c80717ab>\u001b[0m in \u001b[0;36m<module>\u001b[0;34m\u001b[0m\n\u001b[1;32m      3\u001b[0m \u001b[0;34m\u001b[0m\u001b[0m\n\u001b[1;32m      4\u001b[0m \u001b[0;31m# Print our classification report\u001b[0m\u001b[0;34m\u001b[0m\u001b[0;34m\u001b[0m\u001b[0;34m\u001b[0m\u001b[0m\n\u001b[0;32m----> 5\u001b[0;31m \u001b[0mprint\u001b[0m\u001b[0;34m(\u001b[0m\u001b[0mclassification_report\u001b[0m\u001b[0;34m(\u001b[0m\u001b[0mcover\u001b[0m\u001b[0;34m,\u001b[0m \u001b[0mpred\u001b[0m \u001b[0;34m>\u001b[0m \u001b[0mtest\u001b[0m\u001b[0;34m[\u001b[0m\u001b[0;34m'game_spread'\u001b[0m\u001b[0;34m]\u001b[0m\u001b[0;34m)\u001b[0m\u001b[0;34m)\u001b[0m\u001b[0;34m\u001b[0m\u001b[0;34m\u001b[0m\u001b[0m\n\u001b[0m",
      "\u001b[0;31mNameError\u001b[0m: name 'pred' is not defined"
     ]
    }
   ],
   "source": [
    "# Calulcate cover and print out classification report\n",
    "cover = (test['t1_score'] - test['t2_score'] - test['game_spread']) > 0\n",
    "\n",
    "# Print our classification report\n",
    "print(classification_report(cover, algo_3_pred > test['game_spread']))"
   ]
  },
  {
   "cell_type": "markdown",
   "metadata": {},
   "source": [
    "SHIT\n",
    "\n",
    "# Algorithm 4\n",
    "\n",
    "Now we just use a logistic regression to classify cover"
   ]
  },
  {
   "cell_type": "code",
   "execution_count": 47,
   "metadata": {},
   "outputs": [],
   "source": [
    "# Get relevent columns and split up our data\n",
    "x_cols = ['pts', 'a_pts', 'poss', 'a_poss',\n",
    "   'ort', 'drt', 'efg', 'a_efg',\n",
    "   'ast_pct']\n",
    "x_cols = [x + '_home' for x in x_cols] + [x + '_away' for x in x_cols]\n",
    "x_train = train[x_cols]\n",
    "x_test = test[x_cols]\n",
    "y_train = (train['t1_score'] - train['t2_score'] - train['game_spread']) > 0\n",
    "y_test = (test['t1_score'] - test['t2_score'] - test['game_spread']) > 0"
   ]
  },
  {
   "cell_type": "code",
   "execution_count": 48,
   "metadata": {},
   "outputs": [
    {
     "name": "stderr",
     "output_type": "stream",
     "text": [
      "/Users/sidpremkumar/Documents/Projects/MoneyBall-Statistics/venv/lib/python3.7/site-packages/sklearn/linear_model/_logistic.py:940: ConvergenceWarning: lbfgs failed to converge (status=1):\n",
      "STOP: TOTAL NO. of ITERATIONS REACHED LIMIT.\n",
      "\n",
      "Increase the number of iterations (max_iter) or scale the data as shown in:\n",
      "    https://scikit-learn.org/stable/modules/preprocessing.html\n",
      "Please also refer to the documentation for alternative solver options:\n",
      "    https://scikit-learn.org/stable/modules/linear_model.html#logistic-regression\n",
      "  extra_warning_msg=_LOGISTIC_SOLVER_CONVERGENCE_MSG)\n"
     ]
    },
    {
     "data": {
      "text/plain": [
       "LogisticRegression(C=1.0, class_weight=None, dual=False, fit_intercept=True,\n",
       "                   intercept_scaling=1, l1_ratio=None, max_iter=100,\n",
       "                   multi_class='auto', n_jobs=None, penalty='l2',\n",
       "                   random_state=None, solver='lbfgs', tol=0.0001, verbose=0,\n",
       "                   warm_start=False)"
      ]
     },
     "execution_count": 48,
     "metadata": {},
     "output_type": "execute_result"
    }
   ],
   "source": [
    "# Build and train our model \n",
    "algo_4 = LogisticRegression()\n",
    "algo_4.fit(x_train, y_train)"
   ]
  },
  {
   "cell_type": "code",
   "execution_count": 50,
   "metadata": {},
   "outputs": [
    {
     "name": "stdout",
     "output_type": "stream",
     "text": [
      "              precision    recall  f1-score   support\n",
      "\n",
      "       False       0.54      0.49      0.51       519\n",
      "        True       0.47      0.52      0.49       447\n",
      "\n",
      "    accuracy                           0.50       966\n",
      "   macro avg       0.50      0.50      0.50       966\n",
      "weighted avg       0.51      0.50      0.50       966\n",
      "\n"
     ]
    }
   ],
   "source": [
    "# Predict our data\n",
    "algo_4_pred = algo_4.predict(x_test)\n",
    "\n",
    "# Print our classification report\n",
    "print(classification_report(y_test, algo_4_pred))"
   ]
  },
  {
   "cell_type": "markdown",
   "metadata": {},
   "source": [
    "trash!"
   ]
  },
  {
   "cell_type": "markdown",
   "metadata": {},
   "source": [
    "# Algorithm 5\n",
    "Now we use a random forest to classify"
   ]
  },
  {
   "cell_type": "code",
   "execution_count": 235,
   "metadata": {},
   "outputs": [],
   "source": [
    "from sklearn.ensemble import RandomForestClassifier"
   ]
  },
  {
   "cell_type": "code",
   "execution_count": 238,
   "metadata": {},
   "outputs": [],
   "source": [
    "# Get relevent columns and split up our data\n",
    "x_col = ['pts', 'a_pts', 'poss', 'a_poss',\n",
    "   'ort', 'drt', 'efg', 'a_efg',\n",
    "   'ast_pct']\n",
    "x_col = [x + '_home' for x in x_col] + [x + '_away' for x in x_col]\n",
    "x_train = train[x_col]\n",
    "x_test = test[x_col]\n",
    "y_train = (train['t1_score'] - train['t2_score'] - train['game_spread']) > 0\n",
    "y_test = (test['t1_score'] - test['t2_score'] - test['game_spread']) > 0"
   ]
  },
  {
   "cell_type": "code",
   "execution_count": 239,
   "metadata": {},
   "outputs": [
    {
     "data": {
      "text/plain": [
       "RandomForestClassifier(bootstrap=True, ccp_alpha=0.0, class_weight=None,\n",
       "                       criterion='gini', max_depth=None, max_features='auto',\n",
       "                       max_leaf_nodes=None, max_samples=None,\n",
       "                       min_impurity_decrease=0.0, min_impurity_split=None,\n",
       "                       min_samples_leaf=1, min_samples_split=2,\n",
       "                       min_weight_fraction_leaf=0.0, n_estimators=150,\n",
       "                       n_jobs=None, oob_score=False, random_state=None,\n",
       "                       verbose=0, warm_start=False)"
      ]
     },
     "execution_count": 239,
     "metadata": {},
     "output_type": "execute_result"
    }
   ],
   "source": [
    "# Build and Fit our model\n",
    "algo_5 = RandomForestClassifier(n_estimators = 150)\n",
    "algo_5.fit(x_train, y_train)"
   ]
  },
  {
   "cell_type": "code",
   "execution_count": 245,
   "metadata": {},
   "outputs": [],
   "source": [
    "# Get our predictions\n",
    "algo_5_pred = algo_5.predict(x_test)"
   ]
  },
  {
   "cell_type": "code",
   "execution_count": 246,
   "metadata": {},
   "outputs": [
    {
     "name": "stdout",
     "output_type": "stream",
     "text": [
      "              precision    recall  f1-score   support\n",
      "\n",
      "       False       0.56      0.58      0.57       519\n",
      "        True       0.49      0.46      0.47       447\n",
      "\n",
      "    accuracy                           0.52       966\n",
      "   macro avg       0.52      0.52      0.52       966\n",
      "weighted avg       0.52      0.52      0.52       966\n",
      "\n"
     ]
    }
   ],
   "source": [
    "# Print our classifcation report\n",
    "print(classification_report(y_test, algo_5_pred))"
   ]
  },
  {
   "cell_type": "markdown",
   "metadata": {},
   "source": [
    "# Algorithm 6\n",
    "Combine them all! "
   ]
  },
  {
   "cell_type": "code",
   "execution_count": 247,
   "metadata": {},
   "outputs": [],
   "source": [
    "def calculate_overlap(arrays):\n",
    "    \"\"\"Helper function to calculate overlap on an array of arrays\"\"\"\n",
    "    try:\n",
    "        ret = np.array([True for x in range(len(arrays[0]))])\n",
    "        # Grab our first array \n",
    "        start_array = arrays[0]\n",
    "        for x in range(1, len(arrays)):\n",
    "            bool_one = (start_array == arrays[x])\n",
    "            ret = (ret & bool_one)\n",
    "        return ret\n",
    "    except:\n",
    "        return []\n",
    "                \n",
    "def powerset(iterable):\n",
    "    \"\"\"Helper function to get permutations\"\"\"\n",
    "    \"powerset([1,2,3]) --> () (1,) (2,) (3,) (1,2) (1,3) (2,3) (1,2,3)\"\n",
    "    s = list(iterable)\n",
    "    return chain.from_iterable(combinations(s, r) for r in range(len(s)+1))\n",
    "\n",
    "def create_name(name):\n",
    "    \"\"\"Helper function to make name\"\"\"\n",
    "    ret = \"\"\n",
    "    for char in name: \n",
    "        ret += char\n",
    "    return ret\n",
    "        \n",
    "    "
   ]
  },
  {
   "cell_type": "code",
   "execution_count": 249,
   "metadata": {},
   "outputs": [],
   "source": [
    "# Get the output for algoritum 1\n",
    "algo_1_bet = (algo_1_pred > 0)\n",
    "algo_2_bet = (algo_2_pred > test['game_spread'])\n",
    "algo_3_bet = (algo_3_pred > test['game_spread'])\n",
    "algo_4_bet = algo_4_pred\n",
    "algo_5_bet = algo_5_pred\n",
    "\n",
    "# Calculate the result for all the permuatations and see where they overlap\n",
    "permutations = list(powerset([algo_1_bet, algo_2_bet, algo_3_bet, algo_4_bet, algo_5_bet]))\n",
    "permutations_name = list(powerset(\"12345\"))\n",
    "algo_6_pred = {}\n",
    "for index in range(1, len(permutations)):\n",
    "    name = permutations_name[index]\n",
    "    overlap = calculate_overlap(permutations[index])\n",
    "    sample_size = pd.Series(overlap).value_counts()[True]\n",
    "    algo_6_pred[create_name(name)] = {\n",
    "        'overlap': overlap,\n",
    "        'sample_size': sample_size,\n",
    "    }\n",
    "temp = algo_6_pred\n"
   ]
  },
  {
   "cell_type": "code",
   "execution_count": 252,
   "metadata": {},
   "outputs": [],
   "source": [
    "# Compare the values to actual\n",
    "y_test = (test['t1_score'] - test['t2_score'] - test['game_spread']) > 0\n",
    "for index in range(len(permutations)):\n",
    "    name = permutations_name[index]\n",
    "    if name:\n",
    "        overlap = algo_6_pred[create_name(name)]['overlap']\n",
    "        if \"1\" in create_name(name):\n",
    "            pred = algo_1_bet\n",
    "        elif \"2\" in create_name(name):\n",
    "            pred = algo_2_bet\n",
    "        elif \"3\" in create_name(name):\n",
    "            pred = algo_3_bet\n",
    "        elif \"4\" in create_name(name):\n",
    "            pred = algo_4_bet\n",
    "        elif \"5\" in create_name(name):\n",
    "            pred = algo_5_bet\n",
    "        corectness = (y_test[overlap] == pred[overlap])\n",
    "        number_of_correct = pd.Series(corectness).value_counts()[True]\n",
    "        number_of_false = pd.Series(corectness).value_counts()[False]\n",
    "        algo_6_pred[create_name(name)]['correctness'] = corectness\n",
    "        algo_6_pred[create_name(name)]['number_of_correct'] = number_of_correct\n",
    "        algo_6_pred[create_name(name)]['win_percentage'] = number_of_correct / algo_6_pred[create_name(name)]['sample_size'] \n",
    "        algo_6_pred[create_name(name)]['money_won'] = number_of_correct - (1.1*number_of_false)\n",
    "        \n",
    "        "
   ]
  },
  {
   "cell_type": "code",
   "execution_count": 255,
   "metadata": {},
   "outputs": [
    {
     "name": "stdout",
     "output_type": "stream",
     "text": [
      "Entry: 1\n",
      "Win Percentage: 0.4989648033126294\n",
      "Sample Size: 966\n",
      "Monney Won: -50.40000000000009\n",
      "Entry: 2\n",
      "Win Percentage: 0.5248447204968945\n",
      "Sample Size: 966\n",
      "Monney Won: 2.099999999999966\n",
      "Entry: 3\n",
      "Win Percentage: 0.5248447204968945\n",
      "Sample Size: 966\n",
      "Monney Won: 2.099999999999966\n",
      "Entry: 4\n",
      "Win Percentage: 0.5020703933747412\n",
      "Sample Size: 966\n",
      "Monney Won: -44.10000000000002\n",
      "Entry: 5\n",
      "Win Percentage: 0.5248447204968945\n",
      "Sample Size: 966\n",
      "Monney Won: 2.099999999999966\n",
      "Entry: 12\n",
      "Win Percentage: 0.5191986644407346\n",
      "Sample Size: 599\n",
      "Monney Won: -5.800000000000011\n",
      "Entry: 13\n",
      "Win Percentage: 0.5191986644407346\n",
      "Sample Size: 599\n",
      "Monney Won: -5.800000000000011\n",
      "Entry: 14\n",
      "Win Percentage: 0.5006289308176101\n",
      "Sample Size: 795\n",
      "Monney Won: -38.700000000000045\n",
      "Entry: 15\n",
      "Win Percentage: 0.5199306759098787\n",
      "Sample Size: 577\n",
      "Monney Won: -4.7000000000000455\n",
      "Entry: 23\n",
      "Win Percentage: 0.5248447204968945\n",
      "Sample Size: 966\n",
      "Monney Won: 2.099999999999966\n",
      "Entry: 24\n",
      "Win Percentage: 0.5220338983050847\n",
      "Sample Size: 590\n",
      "Monney Won: -2.2000000000000455\n",
      "Entry: 25\n",
      "Win Percentage: 0.5481927710843374\n",
      "Sample Size: 498\n",
      "Monney Won: 25.49999999999997\n",
      "Entry: 34\n",
      "Win Percentage: 0.5220338983050847\n",
      "Sample Size: 590\n",
      "Monney Won: -2.2000000000000455\n",
      "Entry: 35\n",
      "Win Percentage: 0.5481927710843374\n",
      "Sample Size: 498\n",
      "Monney Won: 25.49999999999997\n",
      "Entry: 45\n",
      "Win Percentage: 0.5219594594594594\n",
      "Sample Size: 592\n",
      "Monney Won: -2.3000000000000114\n",
      "Entry: 123\n",
      "Win Percentage: 0.5191986644407346\n",
      "Sample Size: 599\n",
      "Monney Won: -5.800000000000011\n",
      "Entry: 124\n",
      "Win Percentage: 0.5206286836935167\n",
      "Sample Size: 509\n",
      "Monney Won: -3.400000000000034\n",
      "Entry: 125\n",
      "Win Percentage: 0.5338983050847458\n",
      "Sample Size: 354\n",
      "Monney Won: 7.499999999999972\n",
      "Entry: 134\n",
      "Win Percentage: 0.5206286836935167\n",
      "Sample Size: 509\n",
      "Monney Won: -3.400000000000034\n",
      "Entry: 135\n",
      "Win Percentage: 0.5338983050847458\n",
      "Sample Size: 354\n",
      "Monney Won: 7.499999999999972\n",
      "Entry: 145\n",
      "Win Percentage: 0.5270541082164328\n",
      "Sample Size: 499\n",
      "Monney Won: 3.3999999999999773\n",
      "Entry: 234\n",
      "Win Percentage: 0.5220338983050847\n",
      "Sample Size: 590\n",
      "Monney Won: -2.2000000000000455\n",
      "Entry: 235\n",
      "Win Percentage: 0.5481927710843374\n",
      "Sample Size: 498\n",
      "Monney Won: 25.49999999999997\n",
      "Entry: 245\n",
      "Win Percentage: 0.5462184873949579\n",
      "Sample Size: 357\n",
      "Monney Won: 16.799999999999983\n",
      "Entry: 345\n",
      "Win Percentage: 0.5462184873949579\n",
      "Sample Size: 357\n",
      "Monney Won: 16.799999999999983\n",
      "Entry: 1234\n",
      "Win Percentage: 0.5206286836935167\n",
      "Sample Size: 509\n",
      "Monney Won: -3.400000000000034\n",
      "Entry: 1235\n",
      "Win Percentage: 0.5338983050847458\n",
      "Sample Size: 354\n",
      "Monney Won: 7.499999999999972\n",
      "Entry: 1245\n",
      "Win Percentage: 0.5448717948717948\n",
      "Sample Size: 312\n",
      "Monney Won: 13.799999999999983\n",
      "Entry: 1345\n",
      "Win Percentage: 0.5448717948717948\n",
      "Sample Size: 312\n",
      "Monney Won: 13.799999999999983\n",
      "Entry: 2345\n",
      "Win Percentage: 0.5462184873949579\n",
      "Sample Size: 357\n",
      "Monney Won: 16.799999999999983\n",
      "Entry: 12345\n",
      "Win Percentage: 0.5448717948717948\n",
      "Sample Size: 312\n",
      "Monney Won: 13.799999999999983\n",
      "Max: 0.5481927710843374 with Sample Size: 498\n",
      "Max Money Won: 25.49999999999997\n"
     ]
    }
   ],
   "source": [
    "max = -1\n",
    "max_money = -1\n",
    "max_sample_size = -1\n",
    "for entry, value in algo_6_pred.items():\n",
    "    print(f\"Entry: {entry}\")\n",
    "    print(f\"Win Percentage: {value['win_percentage']}\")\n",
    "    print(f\"Sample Size: {value['sample_size']}\")\n",
    "    print(f\"Monney Won: {value['money_won']}\")\n",
    "    if value['win_percentage'] > max:\n",
    "        max = value['win_percentage']\n",
    "        max_sample_size = value['sample_size']\n",
    "    if value['money_won'] > max_money:\n",
    "        max_money = value['money_won']\n",
    "print(f\"Max: {max} with Sample Size: {max_sample_size}\")\n",
    "print(f\"Max Money Won: {max_money}\")"
   ]
  },
  {
   "cell_type": "code",
   "execution_count": null,
   "metadata": {},
   "outputs": [],
   "source": []
  },
  {
   "cell_type": "code",
   "execution_count": null,
   "metadata": {},
   "outputs": [],
   "source": []
  }
 ],
 "metadata": {
  "kernelspec": {
   "display_name": "Python 3",
   "language": "python",
   "name": "python3"
  },
  "language_info": {
   "codemirror_mode": {
    "name": "ipython",
    "version": 3
   },
   "file_extension": ".py",
   "mimetype": "text/x-python",
   "name": "python",
   "nbconvert_exporter": "python",
   "pygments_lexer": "ipython3",
   "version": "3.7.6"
  }
 },
 "nbformat": 4,
 "nbformat_minor": 2
}
