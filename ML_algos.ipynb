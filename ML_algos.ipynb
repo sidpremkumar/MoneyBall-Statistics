{
 "cells": [
  {
   "cell_type": "code",
   "execution_count": 99,
   "metadata": {},
   "outputs": [],
   "source": [
    "# Import all this\n",
    "\n",
    "import clean_up_data\n",
    "import regression_df\n",
    "import get_data\n",
    "import pandas as pd\n",
    "import sklearn\n",
    "from sklearn.linear_model import LinearRegression\n",
    "from sklearn.linear_model import LogisticRegression\n",
    "from sklearn.metrics import classification_report\n",
    "import numpy as np\n",
    "import seaborn as sns\n",
    "import copy"
   ]
  },
  {
   "cell_type": "markdown",
   "metadata": {},
   "source": [
    "# DO NOT run below code. Scroll down to the read_csv statements instead"
   ]
  },
  {
   "cell_type": "code",
   "execution_count": 3,
   "metadata": {},
   "outputs": [],
   "source": [
    "# set an n value for number of games to average over\n",
    "n = 10"
   ]
  },
  {
   "cell_type": "code",
   "execution_count": 108,
   "metadata": {},
   "outputs": [
    {
     "name": "stdout",
     "output_type": "stream",
     "text": [
      "[INFO] Lost 503 values.\n",
      "[INFO] Lost 64 values.\n",
      "[INFO] Lost 108 values.\n"
     ]
    }
   ],
   "source": [
    "# get the data real quick (train on 2016,2017, test on 2018)\n",
    "games15 = get_data.get_data_for_year(2015)\n",
    "games16 = get_data.get_data_for_year(2016)\n",
    "\n",
    "games17 = get_data.get_data_for_year(2017)\n",
    "\n",
    "dic15 = clean_up_data.main(games15)\n",
    "dic16 = clean_up_data.main(games16)\n",
    "\n",
    "dic17 = clean_up_data.main(games17)\n",
    "\n",
    "regr15 = regression_df.main(dic15)\n",
    "regr16 = regression_df.main(dic16)\n",
    "\n",
    "regr17 = regression_df.main(dic17)\n"
   ]
  },
  {
   "cell_type": "code",
   "execution_count": 109,
   "metadata": {},
   "outputs": [],
   "source": [
    "# quick function to turn our regression data ready for actual regression\n",
    "\n",
    "def prepare(regr):\n",
    "    home = regr[regr['home']]\n",
    "    away = regr[regr['home'] == False]\n",
    "    # drop columns that don't need repeating\n",
    "    away.drop(['home','t1_score', 't2_score', 'game_spread',\n",
    "       'game_OU', 't1_ML', 't2_ML'], axis = 1, inplace = True)\n",
    "    home.drop(['home'], axis = 1, inplace = True)\n",
    "    return home.merge(away, on = 'game_id', suffixes=('_home', '_away'))    "
   ]
  },
  {
   "cell_type": "code",
   "execution_count": 110,
   "metadata": {},
   "outputs": [],
   "source": [
    "data15 = prepare(regr15)\n",
    "data16 = prepare(regr16)\n",
    "\n",
    "data17 = prepare(regr17)\n",
    "\n",
    "train = pd.concat((data15, data16))\n",
    "test = data17"
   ]
  },
  {
   "cell_type": "markdown",
   "metadata": {},
   "source": [
    "## Run code starting here"
   ]
  },
  {
   "cell_type": "code",
   "execution_count": 173,
   "metadata": {},
   "outputs": [],
   "source": [
    "train = pd.read_csv('train.csv')\n",
    "test = pd.read_csv('test.csv')"
   ]
  },
  {
   "cell_type": "markdown",
   "metadata": {},
   "source": [
    "Breakdown of prepared regression data: Our columns are\n",
    "\n",
    "\n",
    "       'game_id', 'pts_home', 'a_pts_home', 'poss_home', 'a_poss_home',\n",
    "       'ort_home', 'drt_home', 'OU_home', 'efg_home', 'a_efg_home',\n",
    "       'ast_pct_home', 'win_home', \n",
    "       \n",
    "       't1_score', 't2_score', 'game_spread',\n",
    "       'game_OU', 't1_ML', 't2_ML',\n",
    "       \n",
    "       'pts_away', 'a_pts_away', 'poss_away',\n",
    "       'a_poss_away', 'ort_away', 'drt_away', 'OU_away', 'efg_away',\n",
    "       'a_efg_away', 'ast_pct_away', 'win_away'\n",
    "       \n",
    "The first and third parts are the home & away statistics, averaged (or calculated) over n games.The prefix a_ means the statistics is calculated for the team's opponents. \n",
    "\n",
    "The middle part contains the details of the game results as well as gambling info for the games."
   ]
  },
  {
   "cell_type": "markdown",
   "metadata": {},
   "source": [
    "# Algorithm 1\n",
    "\n",
    "We perform a linear regression on the cover, using game stats which we deem important"
   ]
  },
  {
   "cell_type": "code",
   "execution_count": 96,
   "metadata": {},
   "outputs": [],
   "source": [
    "# relevant columns\n",
    "X_cols = ['pts', 'a_pts', 'poss', 'a_poss',\n",
    "   'ort', 'drt', 'efg', 'a_efg',\n",
    "   'ast_pct']\n",
    "X_cols = [x + '_home' for x in X_cols] + [x + '_away' for x in X_cols]"
   ]
  },
  {
   "cell_type": "code",
   "execution_count": 111,
   "metadata": {},
   "outputs": [],
   "source": [
    "X_train = train[X_cols]\n",
    "X_test = test[X_cols]\n",
    "y_train = train['t1_score'] - train['t2_score'] - train['game_spread']\n",
    "y_test = test['t1_score'] - test['t2_score'] - test['game_spread']"
   ]
  },
  {
   "cell_type": "code",
   "execution_count": 112,
   "metadata": {},
   "outputs": [],
   "source": [
    "lr = LinearRegression()"
   ]
  },
  {
   "cell_type": "code",
   "execution_count": 113,
   "metadata": {},
   "outputs": [
    {
     "data": {
      "text/plain": [
       "LinearRegression(copy_X=True, fit_intercept=True, n_jobs=None, normalize=False)"
      ]
     },
     "execution_count": 113,
     "metadata": {},
     "output_type": "execute_result"
    }
   ],
   "source": [
    "lr.fit(X_train, y_train)"
   ]
  },
  {
   "cell_type": "code",
   "execution_count": 114,
   "metadata": {},
   "outputs": [],
   "source": [
    "pred = lr.predict(X_test)"
   ]
  },
  {
   "cell_type": "code",
   "execution_count": 115,
   "metadata": {},
   "outputs": [
    {
     "data": {
      "text/plain": [
       "<seaborn.axisgrid.JointGrid at 0x17310645f08>"
      ]
     },
     "execution_count": 115,
     "metadata": {},
     "output_type": "execute_result"
    },
    {
     "data": {
      "image/png": "[encoded data removed]",
      "text/plain": [
       "<Figure size 432x432 with 3 Axes>"
      ]
     },
     "metadata": {
      "needs_background": "light"
     },
     "output_type": "display_data"
    }
   ],
   "source": [
    "sns.jointplot(x = y_test, y = pred)"
   ]
  },
  {
   "cell_type": "code",
   "execution_count": 116,
   "metadata": {},
   "outputs": [
    {
     "name": "stdout",
     "output_type": "stream",
     "text": [
      "              precision    recall  f1-score   support\n",
      "\n",
      "       False       0.54      0.45      0.49       519\n",
      "        True       0.47      0.55      0.51       447\n",
      "\n",
      "    accuracy                           0.50       966\n",
      "   macro avg       0.50      0.50      0.50       966\n",
      "weighted avg       0.51      0.50      0.50       966\n",
      "\n"
     ]
    }
   ],
   "source": [
    "print(classification_report(y_test > 0, pred > 0))"
   ]
  },
  {
   "cell_type": "markdown",
   "metadata": {},
   "source": [
    "Awesome, didn't work at all!\n",
    "\n",
    "# Algorithm 2\n",
    "Now we predict the points total for both teams, and see if that covers the spread!"
   ]
  },
  {
   "cell_type": "code",
   "execution_count": 132,
   "metadata": {},
   "outputs": [],
   "source": [
    "# relevant columns\n",
    "X_cols = ['pts', 'a_pts', 'poss', 'a_poss',\n",
    "   'ort', 'drt', 'efg', 'a_efg',\n",
    "   'ast_pct']\n",
    "X_cols = [x + '_home' for x in X_cols] + [x + '_away' for x in X_cols]"
   ]
  },
  {
   "cell_type": "code",
   "execution_count": 133,
   "metadata": {},
   "outputs": [],
   "source": [
    "X_train = train[X_cols]\n",
    "X_test = test[X_cols]\n",
    "y_train = train[['t1_score', 't2_score']]\n",
    "y_test = test[['t1_score', 't2_score']]"
   ]
  },
  {
   "cell_type": "code",
   "execution_count": 134,
   "metadata": {},
   "outputs": [],
   "source": [
    "lr = LinearRegression()"
   ]
  },
  {
   "cell_type": "code",
   "execution_count": 135,
   "metadata": {},
   "outputs": [
    {
     "data": {
      "text/plain": [
       "LinearRegression(copy_X=True, fit_intercept=True, n_jobs=None, normalize=False)"
      ]
     },
     "execution_count": 135,
     "metadata": {},
     "output_type": "execute_result"
    }
   ],
   "source": [
    "lr.fit(X_train, y_train)"
   ]
  },
  {
   "cell_type": "code",
   "execution_count": 136,
   "metadata": {},
   "outputs": [],
   "source": [
    "pred = lr.predict(X_test)"
   ]
  },
  {
   "cell_type": "code",
   "execution_count": 141,
   "metadata": {},
   "outputs": [],
   "source": [
    "guesses = pd.DataFrame(pred)\n",
    "pred_cover = guesses[0] - guesses[1] - test['game_spread']\n",
    "y_test_cover = y_test['t1_score'] - y_test['t2_score'] - test['game_spread']"
   ]
  },
  {
   "cell_type": "code",
   "execution_count": 142,
   "metadata": {},
   "outputs": [
    {
     "data": {
      "text/plain": [
       "<seaborn.axisgrid.JointGrid at 0x1731074de48>"
      ]
     },
     "execution_count": 142,
     "metadata": {},
     "output_type": "execute_result"
    },
    {
     "data": {
      "image/png": "[encoded data removed]",
      "text/plain": [
       "<Figure size 432x432 with 3 Axes>"
      ]
     },
     "metadata": {
      "needs_background": "light"
     },
     "output_type": "display_data"
    }
   ],
   "source": [
    "sns.jointplot(x = y_test_cover, y = pred_cover)"
   ]
  },
  {
   "cell_type": "code",
   "execution_count": 143,
   "metadata": {
    "scrolled": true
   },
   "outputs": [
    {
     "name": "stdout",
     "output_type": "stream",
     "text": [
      "              precision    recall  f1-score   support\n",
      "\n",
      "       False       0.56      0.53      0.54       519\n",
      "        True       0.49      0.52      0.50       447\n",
      "\n",
      "    accuracy                           0.52       966\n",
      "   macro avg       0.52      0.52      0.52       966\n",
      "weighted avg       0.53      0.52      0.53       966\n",
      "\n"
     ]
    }
   ],
   "source": [
    "print(classification_report(y_test_cover > 0, pred_cover > 0))"
   ]
  },
  {
   "cell_type": "markdown",
   "metadata": {},
   "source": [
    "52%, unreal!"
   ]
  },
  {
   "cell_type": "markdown",
   "metadata": {},
   "source": [
    "# Algorithm 3\n",
    "\n",
    "This time, we use the data to predict what the spread is, and if our predicted spread is higher than the actual spread, we bet on the favorite (lower: bet on underdog)."
   ]
  },
  {
   "cell_type": "code",
   "execution_count": 177,
   "metadata": {},
   "outputs": [],
   "source": [
    "# relevant columns\n",
    "X_cols = ['pts', 'a_pts', 'poss', 'a_poss',\n",
    "   'ort', 'drt', 'efg', 'a_efg',\n",
    "   'ast_pct']\n",
    "X_cols = [x + '_home' for x in X_cols] + [x + '_away' for x in X_cols]"
   ]
  },
  {
   "cell_type": "code",
   "execution_count": 178,
   "metadata": {},
   "outputs": [],
   "source": [
    "X_train = train[X_cols]\n",
    "X_test = test[X_cols]\n",
    "y_train = train['game_spread']\n",
    "y_test = test['game_spread']"
   ]
  },
  {
   "cell_type": "code",
   "execution_count": 179,
   "metadata": {},
   "outputs": [],
   "source": [
    "lr = LinearRegression()"
   ]
  },
  {
   "cell_type": "code",
   "execution_count": 180,
   "metadata": {},
   "outputs": [
    {
     "data": {
      "text/plain": [
       "LinearRegression(copy_X=True, fit_intercept=True, n_jobs=None, normalize=False)"
      ]
     },
     "execution_count": 180,
     "metadata": {},
     "output_type": "execute_result"
    }
   ],
   "source": [
    "lr.fit(X_train, y_train)"
   ]
  },
  {
   "cell_type": "code",
   "execution_count": 181,
   "metadata": {},
   "outputs": [],
   "source": [
    "pred = lr.predict(X_test)"
   ]
  },
  {
   "cell_type": "code",
   "execution_count": 204,
   "metadata": {},
   "outputs": [
    {
     "data": {
      "text/plain": [
       "<matplotlib.axes._subplots.AxesSubplot at 0x17310088288>"
      ]
     },
     "execution_count": 204,
     "metadata": {},
     "output_type": "execute_result"
    },
    {
     "data": {
      "image/png": "[encoded data removed]",
      "text/plain": [
       "<Figure size 432x288 with 1 Axes>"
      ]
     },
     "metadata": {
      "needs_background": "light"
     },
     "output_type": "display_data"
    }
   ],
   "source": [
    "sns.scatterplot(x = y_test, y = pred)"
   ]
  },
  {
   "cell_type": "code",
   "execution_count": 212,
   "metadata": {
    "scrolled": true
   },
   "outputs": [
    {
     "data": {
      "text/plain": [
       "<matplotlib.axes._subplots.AxesSubplot at 0x1730cd6e3c8>"
      ]
     },
     "execution_count": 212,
     "metadata": {},
     "output_type": "execute_result"
    },
    {
     "data": {
      "image/png": "[encoded data removed]",
      "text/plain": [
       "<Figure size 432x288 with 1 Axes>"
      ]
     },
     "metadata": {
      "needs_background": "light"
     },
     "output_type": "display_data"
    }
   ],
   "source": [
    "sns.distplot(y_test - pred, bins = 30, kde = False, norm_hist = False, hist_kws = {'edgecolor' : 'black'})"
   ]
  },
  {
   "cell_type": "code",
   "execution_count": 151,
   "metadata": {},
   "outputs": [],
   "source": [
    "cover = (test['t1_score'] - test['t2_score'] - test['game_spread']) > 0"
   ]
  },
  {
   "cell_type": "code",
   "execution_count": 152,
   "metadata": {},
   "outputs": [
    {
     "name": "stdout",
     "output_type": "stream",
     "text": [
      "              precision    recall  f1-score   support\n",
      "\n",
      "       False       0.54      0.51      0.52       519\n",
      "        True       0.47      0.50      0.48       447\n",
      "\n",
      "    accuracy                           0.50       966\n",
      "   macro avg       0.50      0.50      0.50       966\n",
      "weighted avg       0.51      0.50      0.50       966\n",
      "\n"
     ]
    }
   ],
   "source": [
    "print(classification_report(cover, pred > test['game_spread']))"
   ]
  },
  {
   "cell_type": "markdown",
   "metadata": {},
   "source": [
    "SHIT\n",
    "\n",
    "# Algorithm 4\n",
    "\n",
    "Now we just use a logistic regression to classify cover"
   ]
  },
  {
   "cell_type": "code",
   "execution_count": 267,
   "metadata": {},
   "outputs": [],
   "source": [
    "# relevant columns\n",
    "X_cols = ['pts', 'a_pts', 'poss', 'a_poss',\n",
    "   'ort', 'drt', 'efg', 'a_efg',\n",
    "   'ast_pct']\n",
    "X_cols = [x + '_home' for x in X_cols] + [x + '_away' for x in X_cols]"
   ]
  },
  {
   "cell_type": "code",
   "execution_count": 268,
   "metadata": {},
   "outputs": [],
   "source": [
    "X_train = train[X_cols]\n",
    "X_test = test[X_cols]\n",
    "y_train = (train['t1_score'] - train['t2_score'] - train['game_spread']) > 0\n",
    "y_test = (test['t1_score'] - test['t2_score'] - test['game_spread']) > 0"
   ]
  },
  {
   "cell_type": "code",
   "execution_count": 249,
   "metadata": {},
   "outputs": [],
   "source": [
    "lr = LogisticRegression()"
   ]
  },
  {
   "cell_type": "code",
   "execution_count": 250,
   "metadata": {},
   "outputs": [
    {
     "name": "stderr",
     "output_type": "stream",
     "text": [
      "C:\\Users\\Anthony\\Anaconda3\\lib\\site-packages\\sklearn\\linear_model\\logistic.py:432: FutureWarning: Default solver will be changed to 'lbfgs' in 0.22. Specify a solver to silence this warning.\n",
      "  FutureWarning)\n"
     ]
    },
    {
     "data": {
      "text/plain": [
       "LogisticRegression(C=1.0, class_weight=None, dual=False, fit_intercept=True,\n",
       "                   intercept_scaling=1, l1_ratio=None, max_iter=100,\n",
       "                   multi_class='warn', n_jobs=None, penalty='l2',\n",
       "                   random_state=None, solver='warn', tol=0.0001, verbose=0,\n",
       "                   warm_start=False)"
      ]
     },
     "execution_count": 250,
     "metadata": {},
     "output_type": "execute_result"
    }
   ],
   "source": [
    "lr.fit(X_train, y_train)"
   ]
  },
  {
   "cell_type": "code",
   "execution_count": 251,
   "metadata": {},
   "outputs": [],
   "source": [
    "pred = lr.predict(X_test)"
   ]
  },
  {
   "cell_type": "code",
   "execution_count": 253,
   "metadata": {},
   "outputs": [
    {
     "name": "stdout",
     "output_type": "stream",
     "text": [
      "              precision    recall  f1-score   support\n",
      "\n",
      "       False       0.55      0.52      0.53       519\n",
      "        True       0.47      0.49      0.48       447\n",
      "\n",
      "    accuracy                           0.51       966\n",
      "   macro avg       0.51      0.51      0.51       966\n",
      "weighted avg       0.51      0.51      0.51       966\n",
      "\n"
     ]
    }
   ],
   "source": [
    "print(classification_report(y_test, pred))"
   ]
  },
  {
   "cell_type": "markdown",
   "metadata": {},
   "source": [
    "trash!"
   ]
  },
  {
   "cell_type": "code",
   "execution_count": 255,
   "metadata": {},
   "outputs": [],
   "source": [
    "from tensorflow.keras import layers"
   ]
  }
 ],
 "metadata": {
  "kernelspec": {
   "display_name": "Python 3",
   "language": "python",
   "name": "python3"
  },
  "language_info": {
   "codemirror_mode": {
    "name": "ipython",
    "version": 3
   },
   "file_extension": ".py",
   "mimetype": "text/x-python",
   "name": "python",
   "nbconvert_exporter": "python",
   "pygments_lexer": "ipython3",
   "version": "3.7.4"
  }
 },
 "nbformat": 4,
 "nbformat_minor": 2
}
