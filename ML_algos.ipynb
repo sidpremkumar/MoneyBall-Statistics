{
 "cells": [
  {
   "cell_type": "code",
   "execution_count": 1,
   "metadata": {},
   "outputs": [],
   "source": [
    "# Import all this\n",
    "import clean_up_data\n",
    "import regression_df\n",
    "import get_data\n",
    "import pandas as pd\n",
    "import sklearn\n",
    "from sklearn.linear_model import LinearRegression\n",
    "from sklearn.linear_model import LogisticRegression\n",
    "from sklearn.metrics import classification_report\n",
    "import numpy as np\n",
    "import seaborn as sns\n",
    "import copy\n",
    "from itertools import chain, combinations"
   ]
  },
  {
   "cell_type": "markdown",
   "metadata": {},
   "source": [
    "# DO NOT run below code. Scroll down to the read_csv statements instead"
   ]
  },
  {
   "cell_type": "code",
   "execution_count": 2,
   "metadata": {},
   "outputs": [],
   "source": [
    "# set an n value for number of games to average over\n",
    "n = 10"
   ]
  },
  {
   "cell_type": "code",
   "execution_count": 3,
   "metadata": {},
   "outputs": [
    {
     "ename": "KeyboardInterrupt",
     "evalue": "",
     "output_type": "error",
     "traceback": [
      "\u001b[0;31m---------------------------------------------------------------------------\u001b[0m",
      "\u001b[0;31mKeyboardInterrupt\u001b[0m                         Traceback (most recent call last)",
      "\u001b[0;32m<ipython-input-3-25e9647727b1>\u001b[0m in \u001b[0;36m<module>\u001b[0;34m\u001b[0m\n\u001b[1;32m      1\u001b[0m \u001b[0;31m# get the data real quick (train on 2016,2017, test on 2018)\u001b[0m\u001b[0;34m\u001b[0m\u001b[0;34m\u001b[0m\u001b[0;34m\u001b[0m\u001b[0m\n\u001b[0;32m----> 2\u001b[0;31m \u001b[0mgames15\u001b[0m \u001b[0;34m=\u001b[0m \u001b[0mget_data\u001b[0m\u001b[0;34m.\u001b[0m\u001b[0mget_data_for_year\u001b[0m\u001b[0;34m(\u001b[0m\u001b[0;36m2015\u001b[0m\u001b[0;34m)\u001b[0m\u001b[0;34m\u001b[0m\u001b[0;34m\u001b[0m\u001b[0m\n\u001b[0m\u001b[1;32m      3\u001b[0m \u001b[0mgames16\u001b[0m \u001b[0;34m=\u001b[0m \u001b[0mget_data\u001b[0m\u001b[0;34m.\u001b[0m\u001b[0mget_data_for_year\u001b[0m\u001b[0;34m(\u001b[0m\u001b[0;36m2016\u001b[0m\u001b[0;34m)\u001b[0m\u001b[0;34m\u001b[0m\u001b[0;34m\u001b[0m\u001b[0m\n\u001b[1;32m      4\u001b[0m \u001b[0;34m\u001b[0m\u001b[0m\n\u001b[1;32m      5\u001b[0m \u001b[0mgames17\u001b[0m \u001b[0;34m=\u001b[0m \u001b[0mget_data\u001b[0m\u001b[0;34m.\u001b[0m\u001b[0mget_data_for_year\u001b[0m\u001b[0;34m(\u001b[0m\u001b[0;36m2017\u001b[0m\u001b[0;34m)\u001b[0m\u001b[0;34m\u001b[0m\u001b[0;34m\u001b[0m\u001b[0m\n",
      "\u001b[0;32m~/Documents/Projects/MoneyBall-Statistics/get_data.py\u001b[0m in \u001b[0;36mget_data_for_year\u001b[0;34m(year)\u001b[0m\n\u001b[1;32m     50\u001b[0m             \u001b[0mgame2_num_game\u001b[0m \u001b[0;34m=\u001b[0m \u001b[0mgame2\u001b[0m\u001b[0;34m.\u001b[0m\u001b[0mw\u001b[0m \u001b[0;34m+\u001b[0m \u001b[0mgame2\u001b[0m\u001b[0;34m.\u001b[0m\u001b[0ml\u001b[0m\u001b[0;34m\u001b[0m\u001b[0;34m\u001b[0m\u001b[0m\n\u001b[1;32m     51\u001b[0m             \u001b[0;31m# Pull spread from spread data\u001b[0m\u001b[0;34m\u001b[0m\u001b[0;34m\u001b[0m\u001b[0;34m\u001b[0m\u001b[0m\n\u001b[0;32m---> 52\u001b[0;31m             \u001b[0mspread\u001b[0m \u001b[0;34m=\u001b[0m \u001b[0mnba_betting_spread\u001b[0m\u001b[0;34m.\u001b[0m\u001b[0mloc\u001b[0m\u001b[0;34m[\u001b[0m\u001b[0mnba_betting_spread\u001b[0m\u001b[0;34m[\u001b[0m\u001b[0;34m'game_id'\u001b[0m\u001b[0;34m]\u001b[0m \u001b[0;34m==\u001b[0m \u001b[0mgame_id\u001b[0m\u001b[0;34m]\u001b[0m\u001b[0;34m.\u001b[0m\u001b[0mloc\u001b[0m\u001b[0;34m[\u001b[0m\u001b[0mnba_betting_spread\u001b[0m\u001b[0;34m[\u001b[0m\u001b[0;34m'book_name'\u001b[0m\u001b[0;34m]\u001b[0m \u001b[0;34m==\u001b[0m \u001b[0;34m'Bovada'\u001b[0m\u001b[0;34m]\u001b[0m\u001b[0;34m.\u001b[0m\u001b[0mspread1\u001b[0m\u001b[0;34m.\u001b[0m\u001b[0mvalues\u001b[0m\u001b[0;34m[\u001b[0m\u001b[0;36m0\u001b[0m\u001b[0;34m]\u001b[0m\u001b[0;34m\u001b[0m\u001b[0;34m\u001b[0m\u001b[0m\n\u001b[0m\u001b[1;32m     53\u001b[0m             \u001b[0mbetting_total\u001b[0m \u001b[0;34m=\u001b[0m \u001b[0mnba_betting_totals\u001b[0m\u001b[0;34m.\u001b[0m\u001b[0mloc\u001b[0m\u001b[0;34m[\u001b[0m\u001b[0mnba_betting_totals\u001b[0m\u001b[0;34m[\u001b[0m\u001b[0;34m'game_id'\u001b[0m\u001b[0;34m]\u001b[0m \u001b[0;34m==\u001b[0m \u001b[0mgame_id\u001b[0m\u001b[0;34m]\u001b[0m\u001b[0;34m.\u001b[0m\u001b[0mloc\u001b[0m\u001b[0;34m[\u001b[0m\u001b[0mnba_betting_totals\u001b[0m\u001b[0;34m[\u001b[0m\u001b[0;34m'book_name'\u001b[0m\u001b[0;34m]\u001b[0m \u001b[0;34m==\u001b[0m \u001b[0;34m'Bovada'\u001b[0m\u001b[0;34m]\u001b[0m\u001b[0;34m.\u001b[0m\u001b[0mtotal1\u001b[0m\u001b[0;34m.\u001b[0m\u001b[0mvalues\u001b[0m\u001b[0;34m[\u001b[0m\u001b[0;36m0\u001b[0m\u001b[0;34m]\u001b[0m\u001b[0;34m\u001b[0m\u001b[0;34m\u001b[0m\u001b[0m\n\u001b[1;32m     54\u001b[0m             \u001b[0mprice_line1\u001b[0m\u001b[0;34m,\u001b[0m \u001b[0mprice_line2\u001b[0m \u001b[0;34m=\u001b[0m  \u001b[0mget_price_line\u001b[0m\u001b[0;34m(\u001b[0m\u001b[0mnba_betting_money_line\u001b[0m\u001b[0;34m.\u001b[0m\u001b[0mloc\u001b[0m\u001b[0;34m[\u001b[0m\u001b[0mnba_betting_money_line\u001b[0m\u001b[0;34m[\u001b[0m\u001b[0;34m'game_id'\u001b[0m\u001b[0;34m]\u001b[0m \u001b[0;34m==\u001b[0m \u001b[0mgame_id\u001b[0m\u001b[0;34m]\u001b[0m\u001b[0;34m.\u001b[0m\u001b[0mloc\u001b[0m\u001b[0;34m[\u001b[0m\u001b[0mnba_betting_money_line\u001b[0m\u001b[0;34m[\u001b[0m\u001b[0;34m'book_name'\u001b[0m\u001b[0;34m]\u001b[0m \u001b[0;34m==\u001b[0m \u001b[0;34m'Bovada'\u001b[0m\u001b[0;34m]\u001b[0m\u001b[0;34m)\u001b[0m\u001b[0;34m\u001b[0m\u001b[0;34m\u001b[0m\u001b[0m\n",
      "\u001b[0;32m~/Documents/Projects/MoneyBall-Statistics/venv/lib/python3.7/site-packages/pandas/core/ops/common.py\u001b[0m in \u001b[0;36mnew_method\u001b[0;34m(self, other)\u001b[0m\n\u001b[1;32m     62\u001b[0m         \u001b[0mother\u001b[0m \u001b[0;34m=\u001b[0m \u001b[0mitem_from_zerodim\u001b[0m\u001b[0;34m(\u001b[0m\u001b[0mother\u001b[0m\u001b[0;34m)\u001b[0m\u001b[0;34m\u001b[0m\u001b[0;34m\u001b[0m\u001b[0m\n\u001b[1;32m     63\u001b[0m \u001b[0;34m\u001b[0m\u001b[0m\n\u001b[0;32m---> 64\u001b[0;31m         \u001b[0;32mreturn\u001b[0m \u001b[0mmethod\u001b[0m\u001b[0;34m(\u001b[0m\u001b[0mself\u001b[0m\u001b[0;34m,\u001b[0m \u001b[0mother\u001b[0m\u001b[0;34m)\u001b[0m\u001b[0;34m\u001b[0m\u001b[0;34m\u001b[0m\u001b[0m\n\u001b[0m\u001b[1;32m     65\u001b[0m \u001b[0;34m\u001b[0m\u001b[0m\n\u001b[1;32m     66\u001b[0m     \u001b[0;32mreturn\u001b[0m \u001b[0mnew_method\u001b[0m\u001b[0;34m\u001b[0m\u001b[0;34m\u001b[0m\u001b[0m\n",
      "\u001b[0;32m~/Documents/Projects/MoneyBall-Statistics/venv/lib/python3.7/site-packages/pandas/core/ops/__init__.py\u001b[0m in \u001b[0;36mwrapper\u001b[0;34m(self, other)\u001b[0m\n\u001b[1;32m    524\u001b[0m         \u001b[0mrvalues\u001b[0m \u001b[0;34m=\u001b[0m \u001b[0mextract_array\u001b[0m\u001b[0;34m(\u001b[0m\u001b[0mother\u001b[0m\u001b[0;34m,\u001b[0m \u001b[0mextract_numpy\u001b[0m\u001b[0;34m=\u001b[0m\u001b[0;32mTrue\u001b[0m\u001b[0;34m)\u001b[0m\u001b[0;34m\u001b[0m\u001b[0;34m\u001b[0m\u001b[0m\n\u001b[1;32m    525\u001b[0m \u001b[0;34m\u001b[0m\u001b[0m\n\u001b[0;32m--> 526\u001b[0;31m         \u001b[0mres_values\u001b[0m \u001b[0;34m=\u001b[0m \u001b[0mcomparison_op\u001b[0m\u001b[0;34m(\u001b[0m\u001b[0mlvalues\u001b[0m\u001b[0;34m,\u001b[0m \u001b[0mrvalues\u001b[0m\u001b[0;34m,\u001b[0m \u001b[0mop\u001b[0m\u001b[0;34m)\u001b[0m\u001b[0;34m\u001b[0m\u001b[0;34m\u001b[0m\u001b[0m\n\u001b[0m\u001b[1;32m    527\u001b[0m \u001b[0;34m\u001b[0m\u001b[0m\n\u001b[1;32m    528\u001b[0m         \u001b[0;32mreturn\u001b[0m \u001b[0m_construct_result\u001b[0m\u001b[0;34m(\u001b[0m\u001b[0mself\u001b[0m\u001b[0;34m,\u001b[0m \u001b[0mres_values\u001b[0m\u001b[0;34m,\u001b[0m \u001b[0mindex\u001b[0m\u001b[0;34m=\u001b[0m\u001b[0mself\u001b[0m\u001b[0;34m.\u001b[0m\u001b[0mindex\u001b[0m\u001b[0;34m,\u001b[0m \u001b[0mname\u001b[0m\u001b[0;34m=\u001b[0m\u001b[0mres_name\u001b[0m\u001b[0;34m)\u001b[0m\u001b[0;34m\u001b[0m\u001b[0;34m\u001b[0m\u001b[0m\n",
      "\u001b[0;32m~/Documents/Projects/MoneyBall-Statistics/venv/lib/python3.7/site-packages/pandas/core/ops/array_ops.py\u001b[0m in \u001b[0;36mcomparison_op\u001b[0;34m(left, right, op)\u001b[0m\n\u001b[1;32m    245\u001b[0m \u001b[0;34m\u001b[0m\u001b[0m\n\u001b[1;32m    246\u001b[0m     \u001b[0;32melif\u001b[0m \u001b[0mis_object_dtype\u001b[0m\u001b[0;34m(\u001b[0m\u001b[0mlvalues\u001b[0m\u001b[0;34m.\u001b[0m\u001b[0mdtype\u001b[0m\u001b[0;34m)\u001b[0m\u001b[0;34m:\u001b[0m\u001b[0;34m\u001b[0m\u001b[0;34m\u001b[0m\u001b[0m\n\u001b[0;32m--> 247\u001b[0;31m         \u001b[0mres_values\u001b[0m \u001b[0;34m=\u001b[0m \u001b[0mcomp_method_OBJECT_ARRAY\u001b[0m\u001b[0;34m(\u001b[0m\u001b[0mop\u001b[0m\u001b[0;34m,\u001b[0m \u001b[0mlvalues\u001b[0m\u001b[0;34m,\u001b[0m \u001b[0mrvalues\u001b[0m\u001b[0;34m)\u001b[0m\u001b[0;34m\u001b[0m\u001b[0;34m\u001b[0m\u001b[0m\n\u001b[0m\u001b[1;32m    248\u001b[0m \u001b[0;34m\u001b[0m\u001b[0m\n\u001b[1;32m    249\u001b[0m     \u001b[0;32melse\u001b[0m\u001b[0;34m:\u001b[0m\u001b[0;34m\u001b[0m\u001b[0;34m\u001b[0m\u001b[0m\n",
      "\u001b[0;32m~/Documents/Projects/MoneyBall-Statistics/venv/lib/python3.7/site-packages/pandas/core/ops/array_ops.py\u001b[0m in \u001b[0;36mcomp_method_OBJECT_ARRAY\u001b[0;34m(op, x, y)\u001b[0m\n\u001b[1;32m     55\u001b[0m         \u001b[0mresult\u001b[0m \u001b[0;34m=\u001b[0m \u001b[0mlibops\u001b[0m\u001b[0;34m.\u001b[0m\u001b[0mvec_compare\u001b[0m\u001b[0;34m(\u001b[0m\u001b[0mx\u001b[0m\u001b[0;34m.\u001b[0m\u001b[0mravel\u001b[0m\u001b[0;34m(\u001b[0m\u001b[0;34m)\u001b[0m\u001b[0;34m,\u001b[0m \u001b[0my\u001b[0m\u001b[0;34m,\u001b[0m \u001b[0mop\u001b[0m\u001b[0;34m)\u001b[0m\u001b[0;34m\u001b[0m\u001b[0;34m\u001b[0m\u001b[0m\n\u001b[1;32m     56\u001b[0m     \u001b[0;32melse\u001b[0m\u001b[0;34m:\u001b[0m\u001b[0;34m\u001b[0m\u001b[0;34m\u001b[0m\u001b[0m\n\u001b[0;32m---> 57\u001b[0;31m         \u001b[0mresult\u001b[0m \u001b[0;34m=\u001b[0m \u001b[0mlibops\u001b[0m\u001b[0;34m.\u001b[0m\u001b[0mscalar_compare\u001b[0m\u001b[0;34m(\u001b[0m\u001b[0mx\u001b[0m\u001b[0;34m.\u001b[0m\u001b[0mravel\u001b[0m\u001b[0;34m(\u001b[0m\u001b[0;34m)\u001b[0m\u001b[0;34m,\u001b[0m \u001b[0my\u001b[0m\u001b[0;34m,\u001b[0m \u001b[0mop\u001b[0m\u001b[0;34m)\u001b[0m\u001b[0;34m\u001b[0m\u001b[0;34m\u001b[0m\u001b[0m\n\u001b[0m\u001b[1;32m     58\u001b[0m     \u001b[0;32mreturn\u001b[0m \u001b[0mresult\u001b[0m\u001b[0;34m.\u001b[0m\u001b[0mreshape\u001b[0m\u001b[0;34m(\u001b[0m\u001b[0mx\u001b[0m\u001b[0;34m.\u001b[0m\u001b[0mshape\u001b[0m\u001b[0;34m)\u001b[0m\u001b[0;34m\u001b[0m\u001b[0;34m\u001b[0m\u001b[0m\n\u001b[1;32m     59\u001b[0m \u001b[0;34m\u001b[0m\u001b[0m\n",
      "\u001b[0;31mKeyboardInterrupt\u001b[0m: "
     ]
    }
   ],
   "source": [
    "# get the data real quick (train on 2016,2017, test on 2018)\n",
    "games15 = get_data.get_data_for_year(2015)\n",
    "games16 = get_data.get_data_for_year(2016)\n",
    "\n",
    "games17 = get_data.get_data_for_year(2017)\n",
    "\n",
    "dic15 = clean_up_data.main(games15)\n",
    "dic16 = clean_up_data.main(games16)\n",
    "\n",
    "dic17 = clean_up_data.main(games17)\n",
    "\n",
    "regr15 = regression_df.main(dic15)\n",
    "regr16 = regression_df.main(dic16)\n",
    "\n",
    "regr17 = regression_df.main(dic17)\n"
   ]
  },
  {
   "cell_type": "code",
   "execution_count": null,
   "metadata": {},
   "outputs": [],
   "source": [
    "# quick function to turn our regression data ready for actual regression\n",
    "\n",
    "def prepare(regr):\n",
    "    home = regr[regr['home']]\n",
    "    away = regr[regr['home'] == False]\n",
    "    # drop columns that don't need repeating\n",
    "    away.drop(['home','t1_score', 't2_score', 'game_spread',\n",
    "       'game_OU', 't1_ML', 't2_ML'], axis = 1, inplace = True)\n",
    "    home.drop(['home'], axis = 1, inplace = True)\n",
    "    return home.merge(away, on = 'game_id', suffixes=('_home', '_away'))    "
   ]
  },
  {
   "cell_type": "code",
   "execution_count": null,
   "metadata": {},
   "outputs": [],
   "source": [
    "data15 = prepare(regr15)\n",
    "data16 = prepare(regr16)\n",
    "\n",
    "data17 = prepare(regr17)\n",
    "\n",
    "train = pd.concat((data15, data16))\n",
    "test = data17"
   ]
  },
  {
   "cell_type": "markdown",
   "metadata": {},
   "source": [
    "## Run code starting here"
   ]
  },
  {
   "cell_type": "code",
   "execution_count": 4,
   "metadata": {},
   "outputs": [],
   "source": [
    "train = pd.read_csv('train.csv')\n",
    "test = pd.read_csv('test.csv')"
   ]
  },
  {
   "cell_type": "markdown",
   "metadata": {},
   "source": [
    "Breakdown of prepared regression data: Our columns are\n",
    "\n",
    "\n",
    "       'game_id', 'pts_home', 'a_pts_home', 'poss_home', 'a_poss_home',\n",
    "       'ort_home', 'drt_home', 'OU_home', 'efg_home', 'a_efg_home',\n",
    "       'ast_pct_home', 'win_home', \n",
    "       \n",
    "       't1_score', 't2_score', 'game_spread',\n",
    "       'game_OU', 't1_ML', 't2_ML',\n",
    "       \n",
    "       'pts_away', 'a_pts_away', 'poss_away',\n",
    "       'a_poss_away', 'ort_away', 'drt_away', 'OU_away', 'efg_away',\n",
    "       'a_efg_away', 'ast_pct_away', 'win_away'\n",
    "       \n",
    "The first and third parts are the home & away statistics, averaged (or calculated) over n games.The prefix a_ means the statistics is calculated for the team's opponents. \n",
    "\n",
    "The middle part contains the details of the game results as well as gambling info for the games."
   ]
  },
  {
   "cell_type": "markdown",
   "metadata": {},
   "source": [
    "# First we create algorithms for spread prediction"
   ]
  },
  {
   "cell_type": "markdown",
   "metadata": {},
   "source": [
    "# Algorithm 1\n",
    "\n",
    "We perform a linear regression on the cover, using game stats which we deem important"
   ]
  },
  {
   "cell_type": "code",
   "execution_count": 5,
   "metadata": {},
   "outputs": [],
   "source": [
    "# Get relevent columns and split up our data\n",
    "x_cols = ['pts', 'a_pts', 'poss', 'a_poss',\n",
    "   'ort', 'drt', 'efg', 'a_efg',\n",
    "   'ast_pct']\n",
    "x_cols = [x + '_home' for x in x_cols] + [x + '_away' for x in x_cols]\n",
    "x_train = train[x_cols]\n",
    "x_test = test[x_cols]\n",
    "y_train = train['t1_score'] - train['t2_score'] - train['game_spread']\n",
    "y_test = test['t1_score'] - test['t2_score'] - test['game_spread']"
   ]
  },
  {
   "cell_type": "code",
   "execution_count": 6,
   "metadata": {},
   "outputs": [
    {
     "data": {
      "text/plain": [
       "LinearRegression(copy_X=True, fit_intercept=True, n_jobs=None, normalize=False)"
      ]
     },
     "execution_count": 6,
     "metadata": {},
     "output_type": "execute_result"
    }
   ],
   "source": [
    "# Build and train our model \n",
    "algo_1 = LinearRegression()\n",
    "algo_1.fit(x_train, y_train)"
   ]
  },
  {
   "cell_type": "code",
   "execution_count": 7,
   "metadata": {},
   "outputs": [
    {
     "data": {
      "text/plain": [
       "<seaborn.axisgrid.JointGrid at 0x12b3a3dd0>"
      ]
     },
     "execution_count": 7,
     "metadata": {},
     "output_type": "execute_result"
    },
    {
     "data": {
      "image/png": "[encoded data removed]",
      "text/plain": [
       "<Figure size 432x432 with 3 Axes>"
      ]
     },
     "metadata": {
      "needs_background": "light"
     },
     "output_type": "display_data"
    }
   ],
   "source": [
    "# Predict our data\n",
    "algo_1_pred = algo_1.predict(x_test)\n",
    "\n",
    "# Plot expected vs actual\n",
    "sns.jointplot(x = y_test, y = algo_1_pred)"
   ]
  },
  {
   "cell_type": "code",
   "execution_count": 8,
   "metadata": {},
   "outputs": [
    {
     "name": "stdout",
     "output_type": "stream",
     "text": [
      "              precision    recall  f1-score   support\n",
      "\n",
      "       False       0.54      0.45      0.49       519\n",
      "        True       0.47      0.55      0.51       447\n",
      "\n",
      "    accuracy                           0.50       966\n",
      "   macro avg       0.50      0.50      0.50       966\n",
      "weighted avg       0.51      0.50      0.50       966\n",
      "\n"
     ]
    }
   ],
   "source": [
    "# Print our classification report\n",
    "print(classification_report(y_test > 0, algo_1_pred > 0))"
   ]
  },
  {
   "cell_type": "markdown",
   "metadata": {},
   "source": [
    "Awesome, didn't work at all!\n",
    "\n",
    "# Algorithm 2\n",
    "Now we predict the points total for both teams, and see if that covers the spread!"
   ]
  },
  {
   "cell_type": "code",
   "execution_count": 9,
   "metadata": {},
   "outputs": [],
   "source": [
    "# Get relevent columns and split up our data\n",
    "x_cols = ['pts', 'a_pts', 'poss', 'a_poss',\n",
    "   'ort', 'drt', 'efg', 'a_efg',\n",
    "   'ast_pct']\n",
    "x_cols = [x + '_home' for x in x_cols] + [x + '_away' for x in x_cols]\n",
    "x_train = train[x_cols]\n",
    "x_test = test[x_cols]\n",
    "y_train = train['t1_score'] - train['t2_score']\n",
    "y_test = test['t1_score'] - test['t2_score']"
   ]
  },
  {
   "cell_type": "code",
   "execution_count": 10,
   "metadata": {},
   "outputs": [
    {
     "data": {
      "text/plain": [
       "LinearRegression(copy_X=True, fit_intercept=True, n_jobs=None, normalize=False)"
      ]
     },
     "execution_count": 10,
     "metadata": {},
     "output_type": "execute_result"
    }
   ],
   "source": [
    "# Build and train our model \n",
    "algo_2 = LinearRegression()\n",
    "algo_2.fit(x_train, y_train)"
   ]
  },
  {
   "cell_type": "code",
   "execution_count": 11,
   "metadata": {},
   "outputs": [
    {
     "data": {
      "text/plain": [
       "<seaborn.axisgrid.JointGrid at 0x12cbe7050>"
      ]
     },
     "execution_count": 11,
     "metadata": {},
     "output_type": "execute_result"
    },
    {
     "data": {
      "image/png": "[encoded data removed]",
      "text/plain": [
       "<Figure size 432x432 with 3 Axes>"
      ]
     },
     "metadata": {
      "needs_background": "light"
     },
     "output_type": "display_data"
    }
   ],
   "source": [
    "# Predict our data\n",
    "algo_2_pred = algo_2.predict(x_test)\n",
    "\n",
    "# Plot expected vs actual\n",
    "sns.jointplot(x = y_test, y = algo_2_pred)"
   ]
  },
  {
   "cell_type": "code",
   "execution_count": 12,
   "metadata": {
    "scrolled": false
   },
   "outputs": [
    {
     "name": "stdout",
     "output_type": "stream",
     "text": [
      "              precision    recall  f1-score   support\n",
      "\n",
      "       False       0.56      0.53      0.54       519\n",
      "        True       0.49      0.52      0.50       447\n",
      "\n",
      "    accuracy                           0.52       966\n",
      "   macro avg       0.52      0.52      0.52       966\n",
      "weighted avg       0.53      0.52      0.53       966\n",
      "\n"
     ]
    }
   ],
   "source": [
    "# Print our classification report\n",
    "print(classification_report(y_test > test['game_spread'], algo_2_pred > test['game_spread']))"
   ]
  },
  {
   "cell_type": "markdown",
   "metadata": {},
   "source": [
    "52%, unreal!"
   ]
  },
  {
   "cell_type": "markdown",
   "metadata": {},
   "source": [
    "# Algorithm 3\n",
    "\n",
    "This time, we use the data to predict what the spread is, and if our predicted spread is higher than the actual spread, we bet on the home team (lower: bet on away)."
   ]
  },
  {
   "cell_type": "code",
   "execution_count": 13,
   "metadata": {},
   "outputs": [],
   "source": [
    "# Get relevent columns and split up our data\n",
    "x_cols = ['pts', 'a_pts', 'poss', 'a_poss',\n",
    "   'ort', 'drt', 'efg', 'a_efg',\n",
    "   'ast_pct']\n",
    "x_cols = [x + '_home' for x in x_cols] + [x + '_away' for x in x_cols]\n",
    "x_train = train[x_cols]\n",
    "x_test = test[x_cols]\n",
    "y_train = train['game_spread']\n",
    "y_test = test['game_spread']"
   ]
  },
  {
   "cell_type": "code",
   "execution_count": 14,
   "metadata": {},
   "outputs": [
    {
     "data": {
      "text/plain": [
       "LinearRegression(copy_X=True, fit_intercept=True, n_jobs=None, normalize=False)"
      ]
     },
     "execution_count": 14,
     "metadata": {},
     "output_type": "execute_result"
    }
   ],
   "source": [
    "# Build and train our model \n",
    "algo_3 = LinearRegression()\n",
    "algo_3.fit(x_train, y_train)"
   ]
  },
  {
   "cell_type": "code",
   "execution_count": 15,
   "metadata": {},
   "outputs": [
    {
     "data": {
      "text/plain": [
       "<matplotlib.axes._subplots.AxesSubplot at 0x12df585d0>"
      ]
     },
     "execution_count": 15,
     "metadata": {},
     "output_type": "execute_result"
    },
    {
     "data": {
      "image/png": "[encoded data removed]",
      "text/plain": [
       "<Figure size 432x288 with 1 Axes>"
      ]
     },
     "metadata": {
      "needs_background": "light"
     },
     "output_type": "display_data"
    }
   ],
   "source": [
    "# Predict our data\n",
    "algo_3_pred = algo_3.predict(x_test)\n",
    "\n",
    "# Plot expected vs actual\n",
    "sns.scatterplot(x = y_test, y = algo_3_pred)"
   ]
  },
  {
   "cell_type": "code",
   "execution_count": 16,
   "metadata": {
    "scrolled": true
   },
   "outputs": [
    {
     "data": {
      "text/plain": [
       "<matplotlib.axes._subplots.AxesSubplot at 0x12dfb2710>"
      ]
     },
     "execution_count": 16,
     "metadata": {},
     "output_type": "execute_result"
    },
    {
     "data": {
      "image/png": "[encoded data removed]",
      "text/plain": [
       "<Figure size 432x288 with 1 Axes>"
      ]
     },
     "metadata": {
      "needs_background": "light"
     },
     "output_type": "display_data"
    }
   ],
   "source": [
    "# Plot the distribution between expected - predicted\n",
    "sns.distplot(y_test - algo_3_pred, bins = 30, kde = False, norm_hist = False, hist_kws = {'edgecolor' : 'black'})"
   ]
  },
  {
   "cell_type": "code",
   "execution_count": 17,
   "metadata": {},
   "outputs": [
    {
     "name": "stdout",
     "output_type": "stream",
     "text": [
      "              precision    recall  f1-score   support\n",
      "\n",
      "       False       0.54      0.51      0.52       519\n",
      "        True       0.47      0.50      0.48       447\n",
      "\n",
      "    accuracy                           0.50       966\n",
      "   macro avg       0.50      0.50      0.50       966\n",
      "weighted avg       0.51      0.50      0.50       966\n",
      "\n"
     ]
    }
   ],
   "source": [
    "# Calulcate cover and print out classification report\n",
    "cover = (test['t1_score'] - test['t2_score'] - test['game_spread']) > 0\n",
    "\n",
    "# Print our classification report\n",
    "print(classification_report(cover, algo_3_pred > test['game_spread']))"
   ]
  },
  {
   "cell_type": "markdown",
   "metadata": {},
   "source": [
    "SHIT\n",
    "\n",
    "# Algorithm 4\n",
    "\n",
    "Now we just use a logistic regression to classify cover"
   ]
  },
  {
   "cell_type": "code",
   "execution_count": 18,
   "metadata": {},
   "outputs": [],
   "source": [
    "# Get relevent columns and split up our data\n",
    "x_cols = ['pts', 'a_pts', 'poss', 'a_poss',\n",
    "   'ort', 'drt', 'efg', 'a_efg',\n",
    "   'ast_pct']\n",
    "x_cols = [x + '_home' for x in x_cols] + [x + '_away' for x in x_cols]\n",
    "x_train = train[x_cols]\n",
    "x_test = test[x_cols]\n",
    "y_train = (train['t1_score'] - train['t2_score'] - train['game_spread']) > 0\n",
    "y_test = (test['t1_score'] - test['t2_score'] - test['game_spread']) > 0"
   ]
  },
  {
   "cell_type": "code",
   "execution_count": 19,
   "metadata": {},
   "outputs": [
    {
     "name": "stderr",
     "output_type": "stream",
     "text": [
      "/Users/sidpremkumar/Documents/Projects/MoneyBall-Statistics/venv/lib/python3.7/site-packages/sklearn/linear_model/_logistic.py:940: ConvergenceWarning: lbfgs failed to converge (status=1):\n",
      "STOP: TOTAL NO. of ITERATIONS REACHED LIMIT.\n",
      "\n",
      "Increase the number of iterations (max_iter) or scale the data as shown in:\n",
      "    https://scikit-learn.org/stable/modules/preprocessing.html\n",
      "Please also refer to the documentation for alternative solver options:\n",
      "    https://scikit-learn.org/stable/modules/linear_model.html#logistic-regression\n",
      "  extra_warning_msg=_LOGISTIC_SOLVER_CONVERGENCE_MSG)\n"
     ]
    },
    {
     "data": {
      "text/plain": [
       "LogisticRegression(C=1.0, class_weight=None, dual=False, fit_intercept=True,\n",
       "                   intercept_scaling=1, l1_ratio=None, max_iter=100,\n",
       "                   multi_class='auto', n_jobs=None, penalty='l2',\n",
       "                   random_state=None, solver='lbfgs', tol=0.0001, verbose=0,\n",
       "                   warm_start=False)"
      ]
     },
     "execution_count": 19,
     "metadata": {},
     "output_type": "execute_result"
    }
   ],
   "source": [
    "# Build and train our model \n",
    "algo_4 = LogisticRegression()\n",
    "algo_4.fit(x_train, y_train)"
   ]
  },
  {
   "cell_type": "code",
   "execution_count": 20,
   "metadata": {},
   "outputs": [
    {
     "name": "stdout",
     "output_type": "stream",
     "text": [
      "              precision    recall  f1-score   support\n",
      "\n",
      "       False       0.54      0.49      0.51       519\n",
      "        True       0.47      0.52      0.49       447\n",
      "\n",
      "    accuracy                           0.50       966\n",
      "   macro avg       0.50      0.50      0.50       966\n",
      "weighted avg       0.51      0.50      0.50       966\n",
      "\n"
     ]
    }
   ],
   "source": [
    "# Predict our data\n",
    "algo_4_pred = algo_4.predict(x_test)\n",
    "\n",
    "# Print our classification report\n",
    "print(classification_report(y_test, algo_4_pred))"
   ]
  },
  {
   "cell_type": "markdown",
   "metadata": {},
   "source": [
    "trash!"
   ]
  },
  {
   "cell_type": "markdown",
   "metadata": {},
   "source": [
    "# Algorithm 5\n",
    "Now we use a random forest to classify"
   ]
  },
  {
   "cell_type": "code",
   "execution_count": 21,
   "metadata": {},
   "outputs": [],
   "source": [
    "from sklearn.ensemble import RandomForestClassifier"
   ]
  },
  {
   "cell_type": "code",
   "execution_count": 22,
   "metadata": {},
   "outputs": [],
   "source": [
    "# Get relevent columns and split up our data\n",
    "x_col = ['pts', 'a_pts', 'poss', 'a_poss',\n",
    "   'ort', 'drt', 'efg', 'a_efg',\n",
    "   'ast_pct']\n",
    "x_col = [x + '_home' for x in x_col] + [x + '_away' for x in x_col]\n",
    "x_train = train[x_col]\n",
    "x_test = test[x_col]\n",
    "y_train = (train['t1_score'] - train['t2_score'] - train['game_spread']) > 0\n",
    "y_test = (test['t1_score'] - test['t2_score'] - test['game_spread']) > 0"
   ]
  },
  {
   "cell_type": "code",
   "execution_count": 23,
   "metadata": {},
   "outputs": [
    {
     "data": {
      "text/plain": [
       "RandomForestClassifier(bootstrap=True, ccp_alpha=0.0, class_weight=None,\n",
       "                       criterion='gini', max_depth=None, max_features='auto',\n",
       "                       max_leaf_nodes=None, max_samples=None,\n",
       "                       min_impurity_decrease=0.0, min_impurity_split=None,\n",
       "                       min_samples_leaf=1, min_samples_split=2,\n",
       "                       min_weight_fraction_leaf=0.0, n_estimators=150,\n",
       "                       n_jobs=None, oob_score=False, random_state=None,\n",
       "                       verbose=0, warm_start=False)"
      ]
     },
     "execution_count": 23,
     "metadata": {},
     "output_type": "execute_result"
    }
   ],
   "source": [
    "# Build and Fit our model\n",
    "algo_5 = RandomForestClassifier(n_estimators = 150)\n",
    "algo_5.fit(x_train, y_train)"
   ]
  },
  {
   "cell_type": "code",
   "execution_count": 24,
   "metadata": {},
   "outputs": [],
   "source": [
    "# Get our predictions\n",
    "algo_5_pred = algo_5.predict(x_test)"
   ]
  },
  {
   "cell_type": "code",
   "execution_count": 25,
   "metadata": {},
   "outputs": [
    {
     "name": "stdout",
     "output_type": "stream",
     "text": [
      "              precision    recall  f1-score   support\n",
      "\n",
      "       False       0.57      0.58      0.57       519\n",
      "        True       0.50      0.49      0.50       447\n",
      "\n",
      "    accuracy                           0.54       966\n",
      "   macro avg       0.54      0.54      0.54       966\n",
      "weighted avg       0.54      0.54      0.54       966\n",
      "\n"
     ]
    }
   ],
   "source": [
    "# Print our classifcation report\n",
    "print(classification_report(y_test, algo_5_pred))"
   ]
  },
  {
   "cell_type": "markdown",
   "metadata": {},
   "source": [
    "# Algorithm 6\n",
    "Combine them all! "
   ]
  },
  {
   "cell_type": "code",
   "execution_count": 26,
   "metadata": {},
   "outputs": [],
   "source": [
    "def calculate_overlap(arrays):\n",
    "    \"\"\"Helper function to calculate overlap on an array of arrays\"\"\"\n",
    "    try:\n",
    "        ret = np.array([True for x in range(len(arrays[0]))])\n",
    "        # Grab our first array \n",
    "        start_array = arrays[0]\n",
    "        for x in range(1, len(arrays)):\n",
    "            bool_one = (start_array == arrays[x])\n",
    "            ret = (ret & bool_one)\n",
    "        return ret\n",
    "    except:\n",
    "        return []\n",
    "                \n",
    "def powerset(iterable):\n",
    "    \"\"\"Helper function to get permutations\"\"\"\n",
    "    \"powerset([1,2,3]) --> () (1,) (2,) (3,) (1,2) (1,3) (2,3) (1,2,3)\"\n",
    "    s = list(iterable)\n",
    "    return chain.from_iterable(combinations(s, r) for r in range(len(s)+1))\n",
    "\n",
    "def create_name(name):\n",
    "    \"\"\"Helper function to make name\"\"\"\n",
    "    ret = \"\"\n",
    "    for char in name: \n",
    "        ret += char\n",
    "    return ret\n",
    "        \n",
    "    "
   ]
  },
  {
   "cell_type": "code",
   "execution_count": 27,
   "metadata": {},
   "outputs": [],
   "source": [
    "# Get the output for algoritum 1\n",
    "algo_1_bet = (algo_1_pred > 0)\n",
    "algo_2_bet = (algo_2_pred > test['game_spread'])\n",
    "algo_3_bet = (algo_3_pred > test['game_spread'])\n",
    "algo_4_bet = algo_4_pred\n",
    "algo_5_bet = algo_5_pred\n",
    "\n",
    "# Calculate the result for all the permuatations and see where they overlap\n",
    "permutations = list(powerset([algo_1_bet, algo_2_bet, algo_3_bet, algo_4_bet, algo_5_bet]))\n",
    "permutations_name = list(powerset(\"12345\"))\n",
    "algo_6_pred = {}\n",
    "for index in range(1, len(permutations)):\n",
    "    name = permutations_name[index]\n",
    "    overlap = calculate_overlap(permutations[index])\n",
    "    sample_size = pd.Series(overlap).value_counts()[True]\n",
    "    algo_6_pred[create_name(name)] = {\n",
    "        'overlap': overlap,\n",
    "        'sample_size': sample_size,\n",
    "    }\n"
   ]
  },
  {
   "cell_type": "code",
   "execution_count": 28,
   "metadata": {},
   "outputs": [],
   "source": [
    "# Compare the values to actual and put that information in the algo_6_pred dict\n",
    "y_test = (test['t1_score'] - test['t2_score'] - test['game_spread']) > 0\n",
    "for index in range(len(permutations)):\n",
    "    name = permutations_name[index]\n",
    "    if name:\n",
    "        overlap = algo_6_pred[create_name(name)]['overlap']\n",
    "        if \"1\" in create_name(name):\n",
    "            pred = algo_1_bet\n",
    "        elif \"2\" in create_name(name):\n",
    "            pred = algo_2_bet\n",
    "        elif \"3\" in create_name(name):\n",
    "            pred = algo_3_bet\n",
    "        elif \"4\" in create_name(name):\n",
    "            pred = algo_4_bet\n",
    "        elif \"5\" in create_name(name):\n",
    "            pred = algo_5_bet\n",
    "        corectness = (y_test[overlap] == pred[overlap])\n",
    "        number_of_correct = pd.Series(corectness).value_counts()[True]\n",
    "        number_of_false = pd.Series(corectness).value_counts()[False]\n",
    "        algo_6_pred[create_name(name)]['correctness'] = corectness\n",
    "        algo_6_pred[create_name(name)]['number_of_correct'] = number_of_correct\n",
    "        algo_6_pred[create_name(name)]['win_percentage'] = number_of_correct / algo_6_pred[create_name(name)]['sample_size'] \n",
    "        algo_6_pred[create_name(name)]['money_won'] = number_of_correct - (1.1*number_of_false)\n",
    "        \n",
    "        "
   ]
  },
  {
   "cell_type": "code",
   "execution_count": 30,
   "metadata": {
    "scrolled": false
   },
   "outputs": [
    {
     "name": "stdout",
     "output_type": "stream",
     "text": [
      "Entry: 1\n",
      "Win Percentage: 0.4989648033126294\n",
      "Sample Size: 966\n",
      "Monney Won: -50.40000000000009\n",
      "Entry: 2\n",
      "Win Percentage: 0.5248447204968945\n",
      "Sample Size: 966\n",
      "Monney Won: 2.099999999999966\n",
      "Entry: 3\n",
      "Win Percentage: 0.5031055900621118\n",
      "Sample Size: 966\n",
      "Monney Won: -42.0\n",
      "Entry: 4\n",
      "Win Percentage: 0.5020703933747412\n",
      "Sample Size: 966\n",
      "Monney Won: -44.10000000000002\n",
      "Entry: 5\n",
      "Win Percentage: 0.5393374741200828\n",
      "Sample Size: 966\n",
      "Monney Won: 31.499999999999943\n",
      "Entry: 12\n",
      "Win Percentage: 0.5191986644407346\n",
      "Sample Size: 599\n",
      "Monney Won: -5.800000000000011\n",
      "Entry: 13\n",
      "Win Percentage: 0.501984126984127\n",
      "Sample Size: 504\n",
      "Monney Won: -23.100000000000023\n",
      "Entry: 14\n",
      "Win Percentage: 0.5006289308176101\n",
      "Sample Size: 795\n",
      "Monney Won: -38.700000000000045\n",
      "Entry: 15\n",
      "Win Percentage: 0.5330948121645797\n",
      "Sample Size: 559\n",
      "Monney Won: 10.899999999999977\n",
      "Entry: 23\n",
      "Win Percentage: 0.5154994259471871\n",
      "Sample Size: 871\n",
      "Monney Won: -15.200000000000045\n",
      "Entry: 24\n",
      "Win Percentage: 0.5220338983050847\n",
      "Sample Size: 590\n",
      "Monney Won: -2.2000000000000455\n",
      "Entry: 25\n",
      "Win Percentage: 0.5622489959839357\n",
      "Sample Size: 498\n",
      "Monney Won: 40.19999999999999\n",
      "Entry: 34\n",
      "Win Percentage: 0.504950495049505\n",
      "Sample Size: 505\n",
      "Monney Won: -20.0\n",
      "Entry: 35\n",
      "Win Percentage: 0.5437100213219617\n",
      "Sample Size: 469\n",
      "Monney Won: 19.599999999999994\n",
      "Entry: 45\n",
      "Win Percentage: 0.534965034965035\n",
      "Sample Size: 572\n",
      "Monney Won: 13.399999999999977\n",
      "Entry: 123\n",
      "Win Percentage: 0.501984126984127\n",
      "Sample Size: 504\n",
      "Monney Won: -23.100000000000023\n",
      "Entry: 124\n",
      "Win Percentage: 0.5206286836935167\n",
      "Sample Size: 509\n",
      "Monney Won: -3.400000000000034\n",
      "Entry: 125\n",
      "Win Percentage: 0.5449275362318841\n",
      "Sample Size: 345\n",
      "Monney Won: 15.299999999999983\n",
      "Entry: 134\n",
      "Win Percentage: 0.5035799522673031\n",
      "Sample Size: 419\n",
      "Monney Won: -17.80000000000001\n",
      "Entry: 135\n",
      "Win Percentage: 0.519434628975265\n",
      "Sample Size: 283\n",
      "Monney Won: -2.6000000000000227\n",
      "Entry: 145\n",
      "Win Percentage: 0.5375\n",
      "Sample Size: 480\n",
      "Monney Won: 13.799999999999983\n",
      "Entry: 234\n",
      "Win Percentage: 0.508\n",
      "Sample Size: 500\n",
      "Monney Won: -16.600000000000023\n",
      "Entry: 235\n",
      "Win Percentage: 0.5481651376146789\n",
      "Sample Size: 436\n",
      "Monney Won: 22.299999999999983\n",
      "Entry: 245\n",
      "Win Percentage: 0.553314121037464\n",
      "Sample Size: 347\n",
      "Monney Won: 21.5\n",
      "Entry: 345\n",
      "Win Percentage: 0.5310344827586206\n",
      "Sample Size: 290\n",
      "Monney Won: 4.399999999999977\n",
      "Entry: 1234\n",
      "Win Percentage: 0.5035799522673031\n",
      "Sample Size: 419\n",
      "Monney Won: -17.80000000000001\n",
      "Entry: 1235\n",
      "Win Percentage: 0.519434628975265\n",
      "Sample Size: 283\n",
      "Monney Won: -2.6000000000000227\n",
      "Entry: 1245\n",
      "Win Percentage: 0.5511551155115512\n",
      "Sample Size: 303\n",
      "Monney Won: 17.399999999999977\n",
      "Entry: 1345\n",
      "Win Percentage: 0.5267489711934157\n",
      "Sample Size: 243\n",
      "Monney Won: 1.4999999999999858\n",
      "Entry: 2345\n",
      "Win Percentage: 0.5331010452961672\n",
      "Sample Size: 287\n",
      "Monney Won: 5.599999999999994\n",
      "Entry: 12345\n",
      "Win Percentage: 0.5267489711934157\n",
      "Sample Size: 243\n",
      "Monney Won: 1.4999999999999858\n",
      "Max: -1 with Sample Size: -1\n",
      "Max Money Won: 40.19999999999999\n"
     ]
    }
   ],
   "source": [
    "max_value = -1\n",
    "max_money = -1\n",
    "max_sample_size = -1\n",
    "for entry, value in algo_6_pred.items():\n",
    "    print(f\"Entry: {entry}\")\n",
    "    print(f\"Win Percentage: {value['win_percentage']}\")\n",
    "    print(f\"Sample Size: {value['sample_size']}\")\n",
    "    print(f\"Monney Won: {value['money_won']}\")\n",
    "    if value['win_percentage'] > max:\n",
    "        max_value = value['win_percentage']\n",
    "        max_sample_size = value['sample_size']\n",
    "    if value['money_won'] > max_money:\n",
    "        max_money = value['money_won']\n",
    "print(f\"Max: {max_value} with Sample Size: {max_sample_size}\")\n",
    "print(f\"Max Money Won: {max_money}\")"
   ]
  },
  {
   "cell_type": "code",
   "execution_count": null,
   "metadata": {},
   "outputs": [],
   "source": []
  }
 ],
 "metadata": {
  "kernelspec": {
   "display_name": "Python 3",
   "language": "python",
   "name": "python3"
  },
  "language_info": {
   "codemirror_mode": {
    "name": "ipython",
    "version": 3
   },
   "file_extension": ".py",
   "mimetype": "text/x-python",
   "name": "python",
   "nbconvert_exporter": "python",
   "pygments_lexer": "ipython3",
   "version": "3.7.6"
  }
 },
 "nbformat": 4,
 "nbformat_minor": 2
}
